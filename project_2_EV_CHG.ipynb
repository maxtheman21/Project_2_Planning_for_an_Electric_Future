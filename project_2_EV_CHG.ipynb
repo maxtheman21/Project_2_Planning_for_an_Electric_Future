{
 "cells": [
  {
   "cell_type": "code",
   "execution_count": 4,
   "id": "7bcc15d5",
   "metadata": {},
   "outputs": [
    {
     "data": {
      "text/plain": [
       "ev_model! (generic function with 1 method)"
      ]
     },
     "execution_count": 4,
     "metadata": {},
     "output_type": "execute_result"
    }
   ],
   "source": [
    "using DifferentialEquations\n",
    "\n",
    "function main()\n",
    "    prob = ODEProblem(ev_model!, u, t, p)\n",
    "    sol = solve(prob)\n",
    "    return 0\n",
    "end\n",
    "\n",
    "\n",
    "function ev_model!(du, u, p, t)\n",
    "    EV, CHG = u\n",
    "    h, k, l, lambda, N, M = p\n",
    "\n",
    "    du[1] = (h*CHG + k*RB)*(N - EV)\n",
    "    du[2] = (l*EV + lambda*GF)*(M - CHG)\n",
    "end"
   ]
  },
  {
   "cell_type": "code",
   "execution_count": 5,
   "id": "79bd149e",
   "metadata": {},
   "outputs": [
    {
     "ename": "LoadError",
     "evalue": "UndefVarError: `u` not defined in `Main`\nSuggestion: check for spelling errors or missing imports.",
     "output_type": "error",
     "traceback": [
      "UndefVarError: `u` not defined in `Main`\nSuggestion: check for spelling errors or missing imports.",
      "",
      "Stacktrace:",
      " [1] \u001b[0m\u001b[1mmain\u001b[22m\u001b[0m\u001b[1m(\u001b[22m\u001b[0m\u001b[1m)\u001b[22m",
      "\u001b[90m   @\u001b[39m \u001b[36mMain\u001b[39m \u001b[90m.\\\u001b[39m\u001b[90m\u001b[4mIn[4]:4\u001b[24m\u001b[39m",
      " [2] top-level scope",
      "\u001b[90m   @\u001b[39m \u001b[90m\u001b[4mIn[5]:1\u001b[24m\u001b[39m"
     ]
    }
   ],
   "source": [
    "main()"
   ]
  },
  {
   "cell_type": "code",
   "execution_count": null,
   "id": "9884cd77",
   "metadata": {},
   "outputs": [],
   "source": []
  }
 ],
 "metadata": {
  "kernelspec": {
   "display_name": "Julia 1.11.6",
   "language": "julia",
   "name": "julia-1.11"
  },
  "language_info": {
   "file_extension": ".jl",
   "mimetype": "application/julia",
   "name": "julia",
   "version": "1.11.6"
  }
 },
 "nbformat": 4,
 "nbformat_minor": 5
}
